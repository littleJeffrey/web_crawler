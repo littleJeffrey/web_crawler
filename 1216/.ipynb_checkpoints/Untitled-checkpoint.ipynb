{
 "cells": [
  {
   "cell_type": "code",
   "execution_count": 1,
   "metadata": {},
   "outputs": [
    {
     "name": "stdout",
     "output_type": "stream",
     "text": [
      " * Serving Flask app \"__main__\" (lazy loading)\n",
      " * Environment: production\n",
      "   WARNING: Do not use the development server in a production environment.\n",
      "   Use a production WSGI server instead.\n",
      " * Debug mode: off\n"
     ]
    },
    {
     "name": "stderr",
     "output_type": "stream",
     "text": [
      "C:\\ProgramData\\Anaconda3\\lib\\site-packages\\flask_sqlalchemy\\__init__.py:834: FSADeprecationWarning: SQLALCHEMY_TRACK_MODIFICATIONS adds significant overhead and will be disabled by default in the future.  Set it to True or False to suppress this warning.\n",
      "  'SQLALCHEMY_TRACK_MODIFICATIONS adds significant overhead and '\n",
      " * Running on http://127.0.0.1:5000/ (Press CTRL+C to quit)\n",
      "127.0.0.1 - - [17/Dec/2020 13:34:45] \"GET /api/winners?q={%22filters%22:[{%22name%22:%22year%22,%22op%22:%22gte%22,%22val%22:2000},{%22name%22:%22gender%22,%22op%22:%22==%22,%22val%22:%22female%22}],%22order_by%22:[{%22field%22:%22year%22,%22direction%22:%22asc%22}]} HTTP/1.1\" 200 -\n"
     ]
    }
   ],
   "source": [
    "from flask import Flask, request, abort, render_template\n",
    "from flask import send_from_directory\n",
    "\n",
    "import flask_sqlalchemy\n",
    "import flask_restless\n",
    "\n",
    "app = Flask(__name__)\n",
    "\n",
    "app.config['SQLALCHEMY_DATABASE_URI']='sqlite:///static/data/nobel_winners.db'\n",
    "db = flask_sqlalchemy.SQLAlchemy(app)\n",
    "\n",
    "class Winners(db.Model):\n",
    "    __tablename__ = 'winners'\n",
    "    id = db.Column(db.Integer, primary_key=True)\n",
    "    name = db.Column(db.Unicode, unique=True)\n",
    "    category = db.Column(db.Unicode)\n",
    "    year = db.Column(db.Unicode)\n",
    "    nationality = db.Column(db.Unicode)\n",
    "    gender = db.Column(db.Unicode)\n",
    "\n",
    "db.create_all()\n",
    "manager = flask_restless.APIManager(app, flask_sqlalchemy_db=db)\n",
    "manager.create_api(Winners, methods=['GET','POST','DELETE'],max_results_per_page=1000)\n",
    "@app.route('/',methods=['GET'])\n",
    "def root():\n",
    "    return send_from_directory('.','templates/index.html')\n",
    "if __name__=='__main__':\n",
    "    app.run(port=8787)"
   ]
  }
 ],
 "metadata": {
  "kernelspec": {
   "display_name": "Python 3",
   "language": "python",
   "name": "python3"
  },
  "language_info": {
   "codemirror_mode": {
    "name": "ipython",
    "version": 3
   },
   "file_extension": ".py",
   "mimetype": "text/x-python",
   "name": "python",
   "nbconvert_exporter": "python",
   "pygments_lexer": "ipython3",
   "version": "3.7.3"
  }
 },
 "nbformat": 4,
 "nbformat_minor": 2
}
